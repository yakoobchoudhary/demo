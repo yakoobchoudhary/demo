{
 "cells": [
  {
   "cell_type": "code",
   "execution_count": null,
   "id": "0b49f5d8",
   "metadata": {},
   "outputs": [],
   "source": [
    "import pandas as pd\n",
    "df=pd.read_csv(\"Myntra_Fasion_Clothing.csv\",index_col=0)#file_name\n",
    "dff=[tuple(map(str,i)) for i in df.to_records()]\n",
    "\n",
    "\n",
    "import mysql.connector\n",
    "\n",
    "mydb = mysql.connector.connect(\n",
    "  host=\"localhost\",\n",
    "  user=\"root\",\n",
    "  password=\"System\",\n",
    "  database=\"student\" # database name\n",
    ")\n",
    "\n",
    "mycursor = mydb.cursor()\n",
    "mycursor.execute(\"create table if not exists Myntra_Fasion_Clothing (URL varchar(255),Product_id varchar(255),BrandName varchar(255),Category varchar(255),Individual_category varchar(255),category_by_Gender varchar(255),Description varchar(255),DiscountPrice varchar(255),OriginalPrice varchar(255),DiscountOffer varchar(255),SizeOption varchar(255),Ratings varchar(255),Reviews varchar(255))\") #table name and column name with data type\n",
    "sqll = \"INSERT INTO Myntra_Fasion_Clothing VALUES (%s, %s,%s, %s,%s,%s, %s,%s, %s,%s,%s, %s,%s)\" #table anme with no of %s\n",
    "val = dff\n",
    "mycursor.executemany(sqll, val)\n",
    "\n",
    "mydb.commit()\n",
    "mydb.close()\n",
    "\n",
    "print(mycursor.rowcount, \"was inserted.\")\n",
    "        "
   ]
  },
  {
   "cell_type": "code",
   "execution_count": null,
   "id": "acc815cd",
   "metadata": {},
   "outputs": [],
   "source": [
    "import mysql.connector\n",
    "\n",
    "mydb = mysql.connector.connect(\n",
    "  host=\"localhost\",\n",
    "  user=\"root\",\n",
    "  password=\"System\",\n",
    "  database=\"student\"\n",
    ")\n",
    "\n",
    "mycursor = mydb.cursor()\n",
    "\n",
    "mycursor.execute(\"SELECT * FROM Myntra_Fasion_Clothing\")\n",
    "\n",
    "myresult = mycursor.fetchall()\n",
    "\n",
    "columns =mycursor.description\n",
    "name=[ i[0] for i in columns] \n",
    "import pandas as pd\n",
    "df=pd.DataFrame(myresult)\n",
    "df.columns=name\n",
    "df\n"
   ]
  },
  {
   "cell_type": "code",
   "execution_count": null,
   "id": "a9966f46",
   "metadata": {},
   "outputs": [],
   "source": [
    "import numpy as np\n",
    "import pandas as pd\n",
    "#for interactivity\n",
    "from ipywidgets import interact"
   ]
  },
  {
   "cell_type": "code",
   "execution_count": null,
   "id": "252b20e7",
   "metadata": {},
   "outputs": [],
   "source": [
    "print(\"shape of the dataset :\",df.shape)"
   ]
  },
  {
   "cell_type": "code",
   "execution_count": null,
   "id": "6b6bd9a6",
   "metadata": {},
   "outputs": [],
   "source": [
    "df.head(10)"
   ]
  },
  {
   "cell_type": "code",
   "execution_count": null,
   "id": "c2a83fd1",
   "metadata": {},
   "outputs": [],
   "source": [
    "df.info()"
   ]
  },
  {
   "cell_type": "code",
   "execution_count": null,
   "id": "f41b6e52",
   "metadata": {},
   "outputs": [],
   "source": [
    "df.describe()"
   ]
  },
  {
   "cell_type": "code",
   "execution_count": null,
   "id": "ffc2c18c",
   "metadata": {},
   "outputs": [],
   "source": [
    "df[\"DiscountPrice\"]=df[\"DiscountPrice\"].astype(np.float)"
   ]
  },
  {
   "cell_type": "code",
   "execution_count": null,
   "id": "a5fa9048",
   "metadata": {},
   "outputs": [],
   "source": [
    "df.info()"
   ]
  },
  {
   "cell_type": "code",
   "execution_count": null,
   "id": "32b9a991",
   "metadata": {},
   "outputs": [],
   "source": [
    "df.describe()"
   ]
  },
  {
   "cell_type": "code",
   "execution_count": null,
   "id": "6dba46ce",
   "metadata": {},
   "outputs": [],
   "source": [
    "df=df.dropna()\n",
    "df"
   ]
  },
  {
   "cell_type": "code",
   "execution_count": null,
   "id": "d5a89590",
   "metadata": {},
   "outputs": [],
   "source": [
    "df[df.duplicated()]"
   ]
  },
  {
   "cell_type": "code",
   "execution_count": null,
   "id": "a9300b2e",
   "metadata": {},
   "outputs": [],
   "source": [
    "import os\n",
    "os.getcwd()"
   ]
  },
  {
   "cell_type": "code",
   "execution_count": null,
   "id": "dc63f714",
   "metadata": {},
   "outputs": [],
   "source": [
    "\n",
    "df=pd.read_csv('C:\\\\Users\\\\Deepak Sharma\\\\Documents\\\\Myntra_Fasion_Clothing.csv')\n",
    "df"
   ]
  },
  {
   "cell_type": "code",
   "execution_count": null,
   "id": "fb518ff1",
   "metadata": {},
   "outputs": [],
   "source": []
  }
 ],
 "metadata": {
  "kernelspec": {
   "display_name": "Python 3 (ipykernel)",
   "language": "python",
   "name": "python3"
  },
  "language_info": {
   "codemirror_mode": {
    "name": "ipython",
    "version": 3
   },
   "file_extension": ".py",
   "mimetype": "text/x-python",
   "name": "python",
   "nbconvert_exporter": "python",
   "pygments_lexer": "ipython3",
   "version": "3.9.12"
  }
 },
 "nbformat": 4,
 "nbformat_minor": 5
}
